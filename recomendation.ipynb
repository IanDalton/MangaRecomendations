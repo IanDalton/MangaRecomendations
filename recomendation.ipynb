{
 "cells": [
  {
   "cell_type": "code",
   "execution_count": null,
   "metadata": {},
   "outputs": [],
   "source": [
    "import pandas as pd\n",
    "import numpy as np\n",
    "from sklearn.metrics.pairwise import cosine_similarity"
   ]
  },
  {
   "cell_type": "code",
   "execution_count": null,
   "metadata": {},
   "outputs": [],
   "source": [
    "user_data = pd.read_csv('users.csv')\n",
    "user_data = user_data[user_data[\"score\"]!= 0]\n",
    "manga_data = pd.read_csv('mangas.csv')\n",
    "manga_data[\"genres\"] = manga_data[\"genres\"].apply(lambda x: eval(x))\n",
    "#drop the row if mean is nan\n",
    "manga_data = manga_data.dropna(subset=[\"mean\"])"
   ]
  },
  {
   "cell_type": "code",
   "execution_count": null,
   "metadata": {},
   "outputs": [],
   "source": [
    "#print size of memory used by each dataframe in mb\n",
    "print(user_data.memory_usage(deep=True).sum() / 1024**2)\n",
    "print(manga_data.memory_usage(deep=True).sum() / 1024**2)"
   ]
  },
  {
   "cell_type": "code",
   "execution_count": null,
   "metadata": {},
   "outputs": [],
   "source": [
    "from sklearn.feature_extraction.text import TfidfVectorizer"
   ]
  },
  {
   "cell_type": "code",
   "execution_count": null,
   "metadata": {},
   "outputs": [],
   "source": [
    "manga_data.info()"
   ]
  },
  {
   "cell_type": "code",
   "execution_count": null,
   "metadata": {},
   "outputs": [],
   "source": [
    "from recomendations.content_based_recommender import ContentBasedRecommender"
   ]
  },
  {
   "cell_type": "code",
   "execution_count": null,
   "metadata": {},
   "outputs": [],
   "source": [
    "rec_synopsis = ContentBasedRecommender(manga_data, manga_data['synopsis'])\n",
    "rec_synopsis.fit_transform()\n"
   ]
  },
  {
   "cell_type": "code",
   "execution_count": null,
   "metadata": {},
   "outputs": [],
   "source": [
    "rec_synopsis.get_recommendations('Planetes', 10)"
   ]
  },
  {
   "cell_type": "code",
   "execution_count": null,
   "metadata": {},
   "outputs": [],
   "source": [
    "genre_synopsis = ContentBasedRecommender(manga_data, manga_data[\"genres\"].apply(lambda x: \" \".join(x)))\n",
    "genre_synopsis.fit_transform()\n"
   ]
  },
  {
   "cell_type": "code",
   "execution_count": null,
   "metadata": {},
   "outputs": [],
   "source": [
    "genre_synopsis.get_recommendations('Planetes', 10)"
   ]
  },
  {
   "cell_type": "code",
   "execution_count": null,
   "metadata": {},
   "outputs": [],
   "source": [
    "manga_df = pd.read_csv('mangas.csv')\n",
    "manga_df[\"genres\"] = manga_df[\"genres\"].apply(lambda x: eval(x))\n",
    "manga_df[\"authors\"] = manga_df[\"authors\"].apply(lambda x: eval(x))\n",
    "manga_df[\"start_date\"] = pd.to_datetime(manga_df[\"start_date\"], errors='coerce')\n",
    "manga_df = manga_df.reindex()\n",
    "\n",
    "user_df = pd.read_csv('users.csv')\n",
    "user_df[\"updated_at\"] = pd.to_datetime(user_df[\"updated_at\"], errors='coerce')\n",
    "user_df = user_df.reindex()"
   ]
  },
  {
   "cell_type": "code",
   "execution_count": null,
   "metadata": {},
   "outputs": [],
   "source": []
  },
  {
   "cell_type": "code",
   "execution_count": null,
   "metadata": {},
   "outputs": [],
   "source": [
    "# Adding suffixes to handle overlapping column names\n",
    "users = user_df.join(manga_df.set_index('manga_id'), on='manga_id', how='inner', lsuffix='_user', rsuffix='_manga')\n",
    "users = users.reset_index()\n",
    "users = users.dropna(subset=[\"mean\"], )\n",
    "users = users[users[\"score\"]>0 ]\n",
    "users = users.reset_index()\n",
    "manga_df = manga_df.dropna(subset=[\"mean\"])\n",
    "manga_df = manga_df.reset_index()\n"
   ]
  },
  {
   "cell_type": "code",
   "execution_count": null,
   "metadata": {},
   "outputs": [],
   "source": [
    "from sklearn.preprocessing import MultiLabelBinarizer\n",
    "\n",
    "# Assuming 'genres' is already a list of genres per row. If not, convert it first.\n",
    "# For example, if it's a string representation of a list, you might need something like:\n",
    "# users['genres'] = users['genres'].apply(lambda x: eval(x) if isinstance(x, str) else x)\n",
    "\n",
    "# Initialize the MultiLabelBinarizer\n",
    "mlb = MultiLabelBinarizer()\n",
    "\n",
    "# Fit and transform the 'genres' column to one-hot encoded genres\n",
    "genres_encoded = mlb.fit_transform(users['genres'])\n",
    "\n",
    "# Create a DataFrame from the encoded genres with column names as genres\n",
    "genres_df = pd.DataFrame(genres_encoded, columns=mlb.classes_)\n",
    "\n",
    "# Join the encoded genres back to the original DataFrame\n",
    "users = users.join(genres_df)\n"
   ]
  },
  {
   "cell_type": "code",
   "execution_count": null,
   "metadata": {},
   "outputs": [],
   "source": [
    "from surprise import SVD\n",
    "from surprise import Dataset,Reader\n",
    "from surprise.model_selection import cross_validate\n"
   ]
  },
  {
   "cell_type": "code",
   "execution_count": null,
   "metadata": {},
   "outputs": [],
   "source": [
    "reader = Reader(rating_scale=(1, 10))\n",
    "data = Dataset.load_from_df(users[['user', 'manga_id', 'score']], reader)"
   ]
  },
  {
   "cell_type": "code",
   "execution_count": null,
   "metadata": {},
   "outputs": [],
   "source": [
    "from surprise.model_selection import GridSearchCV"
   ]
  },
  {
   "cell_type": "code",
   "execution_count": null,
   "metadata": {},
   "outputs": [],
   "source": [
    "svd = SVD()\n"
   ]
  },
  {
   "cell_type": "code",
   "execution_count": null,
   "metadata": {},
   "outputs": [],
   "source": [
    "\n",
    "param_grid = {'n_factors': [50, 100, 150], 'lr_all': [0.002, 0.005],\n",
    "              'reg_all': [0.02, 0.05]}\n",
    "gs = GridSearchCV(SVD, param_grid, measures=['rmse', 'mae'], cv=3,n_jobs=-1)\n",
    "\n",
    "gs.fit(data)\n",
    "\n",
    "# best RMSE score\n",
    "print(gs.best_score['rmse'])\n",
    "\n",
    "# combination of parameters that gave the best RMSE score\n",
    "print(gs.best_params['rmse'])\n",
    "\n",
    "# Use the best parameters to re-train the model\n",
    "algo = gs.best_estimator['rmse']\n",
    "trainset = data.build_full_trainset()\n",
    "algo.fit(trainset)"
   ]
  },
  {
   "cell_type": "code",
   "execution_count": null,
   "metadata": {},
   "outputs": [],
   "source": [
    "gs.best_estimator['rmse']"
   ]
  },
  {
   "cell_type": "code",
   "execution_count": null,
   "metadata": {},
   "outputs": [],
   "source": [
    "trainset = data.build_full_trainset()\n",
    "svd.fit(trainset)"
   ]
  },
  {
   "cell_type": "code",
   "execution_count": null,
   "metadata": {},
   "outputs": [],
   "source": [
    "user_to_uid = {user: uid for uid, user in enumerate(user_df['user'].unique())}\n",
    "manga_to_iid = {manga_id: iid for iid, manga_id in enumerate(manga_df['title'].unique())}"
   ]
  },
  {
   "cell_type": "code",
   "execution_count": null,
   "metadata": {},
   "outputs": [],
   "source": [
    "svd.predict(uid=user_to_uid.get(\"TheMissingTrex\"), iid=manga_to_iid.get(\"Bleach\")).est"
   ]
  },
  {
   "cell_type": "code",
   "execution_count": null,
   "metadata": {},
   "outputs": [],
   "source": []
  },
  {
   "cell_type": "code",
   "execution_count": null,
   "metadata": {},
   "outputs": [],
   "source": [
    "from sklearn.manifold import TSNE\n",
    "\n",
    "tsne = TSNE(n_components=2, n_iter=500, verbose=3, random_state=1)\n",
    "books_embedding = tsne.fit_transform(svd.qi)\n",
    "projection = pd.DataFrame(columns=['x', 'y'], data=books_embedding)\n",
    "projection['title'] = manga_df['title']\n"
   ]
  },
  {
   "cell_type": "code",
   "execution_count": null,
   "metadata": {},
   "outputs": [],
   "source": [
    "import plotly.express as px\n",
    "import datapane as dp\n",
    "\n",
    "fig = px.scatter(\n",
    "    projection, x='x', y='y'\n",
    ")\n",
    "fig.show()\n",
    "\n",
    "report = dp.Report(dp.Plot(fig) ) #Create a report\n",
    "# report.publish(name='books_scatter_plot', open=True, visibility='PUBLIC') #Publish the report"
   ]
  },
  {
   "cell_type": "code",
   "execution_count": null,
   "metadata": {},
   "outputs": [],
   "source": [
    "import datapane as dp\n",
    "import difflib\n",
    "import random\n",
    "def get_book_id(book_title, metadata:pd.DataFrame):\n",
    "    \n",
    "    #existing_titles = list(metadata['title'].values)\n",
    "    #closest_titles = difflib.get_close_matches(book_title, existing_titles)\n",
    "    book_id = metadata[metadata['title'] == book_title].index.values[0]\n",
    "    #print(book_title,book_id)\n",
    "    return book_id\n",
    "\n",
    "def plot_books(titles, plot_name):\n",
    "    \n",
    "    book_indices = []\n",
    "    #print(titles)\n",
    "    for book in titles:\n",
    "        book_indices.append(get_book_id(book, manga_df))\n",
    "        \n",
    "    book_vector_df = projection.iloc[book_indices]\n",
    "    #print(book_vector_df)\n",
    "    \n",
    "    fig = px.scatter(\n",
    "    book_vector_df, x='x', y='y', text='title',\n",
    "    )\n",
    "    fig.show()\n",
    "    \n",
    "    report = dp.Report(dp.Plot(fig) ) #Create a report\n",
    "#     report.publish(name=plot_name, open=True, visibility='PUBLIC') #Publish the report\n",
    "\n",
    "books = list(manga_df.sort_values(\"mean\",ascending=False)['title'][:30])\n",
    "plot_books(books, plot_name='books_embedding')"
   ]
  },
  {
   "cell_type": "code",
   "execution_count": null,
   "metadata": {},
   "outputs": [],
   "source": [
    "import duckdb\n",
    "\n",
    "\n",
    "\n",
    "# Create a DuckDB connection\n",
    "conn = duckdb.connect(database=':memory:', read_only=False)\n",
    "\n",
    "# Register the DataFrame as a view\n",
    "conn.register('users_view', users)"
   ]
  },
  {
   "cell_type": "code",
   "execution_count": null,
   "metadata": {},
   "outputs": [],
   "source": []
  },
  {
   "cell_type": "code",
   "execution_count": null,
   "metadata": {},
   "outputs": [],
   "source": [
    "def get_recommendations(user, n=10):\n",
    "    recommendations = set()\n",
    "    query = f\"\"\"\n",
    "    SELECT title\n",
    "    FROM users_view\n",
    "    WHERE user = '{user}'\n",
    "    \"\"\"\n",
    "    user_read_mangas = conn.execute(query).fetchdf().title.values\n",
    "    #print(user_read_mangas)\n",
    "    user_read_mangas = set(user_read_mangas)\n",
    "    #print(user_read_mangas)\n",
    "    for manga_title in user_read_mangas:\n",
    "        \"\"\" for rec in rec_synopsis.get_recommendations(manga_title, n=n, include_series=False)['title']:\n",
    "            recommendations.add(rec)\n",
    "        for rec in genre_synopsis.get_recommendations(manga_title, n=n, include_series=False)['title']:\n",
    "            recommendations.add(rec) \"\"\"\n",
    "        recommendations.update(genre_synopsis.get_recommendations(manga_title, n=n, include_series=False)['title'])\n",
    "        recommendations.update(rec_synopsis.get_recommendations(manga_title, n=n, include_series=False)['title'])\n",
    "\n",
    "    #print(\"done getting recommendations\")\n",
    "    #eliminamos los mangas similares ya leidos\n",
    "   \n",
    "    scores = {}\n",
    "    \n",
    "    for rec in recommendations:\n",
    "        if rec in user_read_mangas:\n",
    "            continue\n",
    "        \n",
    "        scores[rec] = svd.predict(uid=user_to_uid.get(user), iid=manga_to_iid.get(rec)).est\n",
    "    #print(\"done getting scores\")\n",
    "    scores = sorted(scores.items(), key=lambda x: x[1], reverse=True)\n",
    "    return scores[:n]\n",
    "\n",
    "get_recommendations(\"TheMissingTrex\", n=20)\n",
    "        \n"
   ]
  },
  {
   "cell_type": "code",
   "execution_count": null,
   "metadata": {},
   "outputs": [],
   "source": [
    "%load_ext line_profiler"
   ]
  },
  {
   "cell_type": "code",
   "execution_count": null,
   "metadata": {},
   "outputs": [],
   "source": [
    "%lprun -f get_recommendations get_recommendations(\"Jseph22\", n=10)"
   ]
  },
  {
   "cell_type": "code",
   "execution_count": null,
   "metadata": {},
   "outputs": [],
   "source": [
    "%lprun -f genre_synopsis.get_recommendations genre_synopsis.get_recommendations(\"Bleach\", n=10, include_series=False)"
   ]
  }
 ],
 "metadata": {
  "kernelspec": {
   "display_name": "Python 3",
   "language": "python",
   "name": "python3"
  },
  "language_info": {
   "codemirror_mode": {
    "name": "ipython",
    "version": 3
   },
   "file_extension": ".py",
   "mimetype": "text/x-python",
   "name": "python",
   "nbconvert_exporter": "python",
   "pygments_lexer": "ipython3",
   "version": "3.8.19"
  }
 },
 "nbformat": 4,
 "nbformat_minor": 2
}
