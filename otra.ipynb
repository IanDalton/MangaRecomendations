{
 "cells": [
  {
   "cell_type": "code",
   "execution_count": null,
   "metadata": {},
   "outputs": [],
   "source": [
    "import os,json,csv,asyncio,requests,time"
   ]
  },
  {
   "cell_type": "code",
   "execution_count": null,
   "metadata": {},
   "outputs": [],
   "source": [
    "import requests,asyncio,json,csv, os,aiohttp\n",
    "from dotenv import load_dotenv\n",
    "\n",
    "load_dotenv()\n",
    "MAL_CLIENT_ID = os.getenv(\"MAL_CLIENT_ID\")"
   ]
  },
  {
   "cell_type": "code",
   "execution_count": null,
   "metadata": {},
   "outputs": [],
   "source": [
    "with open(\"./data/users.csv\",\"w\",newline=\"\") as csvfile:\n",
    "    writer = csv.writer(csvfile)\n",
    "    writer.writerow([\"user\",\"manga_id\",\"status\",\"is_rereading\",\"score\",\"chapters_read\",\"updated_at\"])\n",
    "    for file in os.listdir(\"./user\"):\n",
    "        \n",
    "        with open(\"./user/\"+file) as f:\n",
    "            try:\n",
    "                data = json.load(f)\n",
    "            except:\n",
    "                continue\n",
    "            #data = json.load(f)\n",
    "            #print(file)\n",
    "            for item in data.get(\"data\",[]):\n",
    "                try:\n",
    "                    writer.writerow([file[:-5],item[\"node\"][\"id\"],item[\"list_status\"][\"status\"],item[\"list_status\"][\"is_rereading\"],item[\"list_status\"][\"score\"],item[\"list_status\"][\"num_chapters_read\"],item[\"list_status\"][\"updated_at\"]])\n",
    "                except:\n",
    "                    pass\n"
   ]
  },
  {
   "cell_type": "code",
   "execution_count": null,
   "metadata": {},
   "outputs": [],
   "source": [
    "import pandas as pd"
   ]
  },
  {
   "cell_type": "code",
   "execution_count": null,
   "metadata": {},
   "outputs": [],
   "source": [
    "df = pd.read_csv(\"./data/users.csv\")\n"
   ]
  },
  {
   "cell_type": "code",
   "execution_count": null,
   "metadata": {},
   "outputs": [],
   "source": [
    "df[\"manga_id\"].value_counts().to_csv(\"./data/manga_id.csv\")"
   ]
  },
  {
   "cell_type": "code",
   "execution_count": null,
   "metadata": {},
   "outputs": [],
   "source": [
    "# dont include manga with no score\n",
    "df2 = df[df[\"score\"]!=0]\n"
   ]
  },
  {
   "cell_type": "code",
   "execution_count": null,
   "metadata": {},
   "outputs": [],
   "source": [
    "def get_content_data(content_id:str,content_type:str=\"manga\"):\n",
    "    if content_type not in [\"manga\",\"anime\"]:\n",
    "        raise ValueError(\"content_type must be either 'manga' or 'anime'\")\n",
    "    response = requests.get(f\"https://api.myanimelist.net/v2/{content_type}/{content_id}?fields=[genres,authors,background,start_date,status,popularity,rank,synopsis,mean,num_list_users,num_scoring_users,nsfw,num_chapters]\", headers={\"X-MAL-CLIENT-ID\":MAL_CLIENT_ID})\n",
    "    print(\"got response for\",content_id)\n",
    "    with open(f\"./data/{content_type}/{content_id}.json\",\"w\") as f:\n",
    "        json.dump(json.loads(response.text),f)"
   ]
  },
  {
   "cell_type": "code",
   "execution_count": null,
   "metadata": {},
   "outputs": [],
   "source": [
    "mangas = set()\n",
    "for manga in os.listdir(\"./data/manga\"):\n",
    "    mangas.add(int(manga[:-5]))\n",
    "mangas_to_get = set(df2[\"manga_id\"].value_counts().index)"
   ]
  },
  {
   "cell_type": "code",
   "execution_count": null,
   "metadata": {},
   "outputs": [],
   "source": [
    "mangas_to_get = mangas_to_get.difference(mangas)"
   ]
  },
  {
   "cell_type": "code",
   "execution_count": null,
   "metadata": {},
   "outputs": [],
   "source": [
    "tasks = []\n",
    "for manga_id in mangas_to_get:\n",
    "    time.sleep(1)\n",
    "    tasks.append(get_content_data(manga_id))\n",
    "    "
   ]
  },
  {
   "cell_type": "code",
   "execution_count": null,
   "metadata": {},
   "outputs": [],
   "source": [
    "with open(\"mangas.csv\",\"w\",newline=\"\",encoding=\"utf-8\") as manga:\n",
    "    writer = csv.writer(manga)\n",
    "    writer.writerow([\"manga_id\",\"title\",\"genres\",\"authors\",\"background\",\"start_date\",\"status\",\"popularity\",\"rank\",\"synopsis\",\"mean\",\"num_list_users\",\"num_scoring_users\",\"nsfw\",\"num_chapters\"])\n",
    "    for manga in os.listdir(\"./data/manga\"):\n",
    "        with open(f\"./data/manga/{manga}\",encoding=\"utf-8\") as f:\n",
    "            try:\n",
    "                data:dict = json.load(f)\n",
    "            except:\n",
    "                print(f\"failed to load {manga}\")\n",
    "                continue\n",
    "            try:\n",
    "                writer.writerow([data[\"id\"],data[\"title\"],[genre[\"name\"] for genre in data.get(\"genres\",[])],[(author[\"node\"][\"id\"],author[ \"role\"]) for author in data.get(\"authors\",[])],data[\"background\"],data.get(\"start_date\",None),data[\"status\"],data[\"popularity\"],data.get(\"rank\"),data[\"synopsis\"],data.get(\"mean\",None),data[\"num_list_users\"],data[\"num_scoring_users\"],data[\"nsfw\"],data[\"num_chapters\"]])\n",
    "            except Exception as e:  \n",
    "                print(e)"
   ]
  },
  {
   "cell_type": "code",
   "execution_count": null,
   "metadata": {},
   "outputs": [],
   "source": [
    "from recomendations.recomendator import Recomendator"
   ]
  },
  {
   "cell_type": "code",
   "execution_count": null,
   "metadata": {},
   "outputs": [],
   "source": [
    "rec = Recomendator(\"users.csv\",\"mangas.csv\")"
   ]
  },
  {
   "cell_type": "code",
   "execution_count": null,
   "metadata": {},
   "outputs": [],
   "source": [
    "rec.get_recommendations(\"Jseph22\")"
   ]
  },
  {
   "cell_type": "code",
   "execution_count": null,
   "metadata": {},
   "outputs": [],
   "source": [
    "rec.mangas[rec.mangas[\"title\"]==\"Bleach\"]"
   ]
  },
  {
   "cell_type": "code",
   "execution_count": null,
   "metadata": {},
   "outputs": [],
   "source": [
    "rec.svd.predict(uid=rec.user_to_uid.get(\"TheMissingTrex\"), iid=rec.manga_to_iid.get(\"Steel-Eating Player\")).est"
   ]
  },
  {
   "cell_type": "code",
   "execution_count": null,
   "metadata": {},
   "outputs": [],
   "source": []
  }
 ],
 "metadata": {
  "kernelspec": {
   "display_name": "Python 3",
   "language": "python",
   "name": "python3"
  },
  "language_info": {
   "codemirror_mode": {
    "name": "ipython",
    "version": 3
   },
   "file_extension": ".py",
   "mimetype": "text/x-python",
   "name": "python",
   "nbconvert_exporter": "python",
   "pygments_lexer": "ipython3",
   "version": "3.8.19"
  }
 },
 "nbformat": 4,
 "nbformat_minor": 2
}
